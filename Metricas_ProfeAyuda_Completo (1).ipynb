{
  "cells": [
    {
      "cell_type": "markdown",
      "metadata": {
        "id": "kPc2RDRKZTPc"
      },
      "source": [
        "# 📘 Evaluación de Métricas - Proyecto Profe Ayuda\n",
        "---\n",
        "Este notebook evalúa el rendimiento del modelo de IA **Profe Ayuda** utilizando métricas de Clasificación y Regresión.\n",
        "Incluye:\n",
        "- Matriz de Confusión\n",
        "- Accuracy, Precision, Recall, F1-Score\n",
        "- MAE, MSE, RMSE, R²\n",
        "- Visualización de resultados\n",
        "- Conclusiones y buenas prácticas\n"
      ],
      "id": "kPc2RDRKZTPc"
    },
    {
      "cell_type": "code",
      "metadata": {
        "id": "YYHkZEfOZTPe"
      },
      "source": [
        "# ===============================================================\n",
        "# 📦 1. Importar librerías necesarias\n",
        "# ===============================================================\n",
        "import numpy as np\n",
        "import pandas as pd\n",
        "from sklearn.metrics import (\n",
        "    accuracy_score, precision_score, recall_score, f1_score,\n",
        "    confusion_matrix, ConfusionMatrixDisplay,\n",
        "    mean_absolute_error, mean_squared_error, r2_score\n",
        ")\n",
        "import matplotlib.pyplot as plt\n",
        "import seaborn as sns\n"
      ],
      "execution_count": 1,
      "outputs": [],
      "id": "YYHkZEfOZTPe"
    },
    {
      "cell_type": "code",
      "metadata": {
        "colab": {
          "base_uri": "https://localhost:8080/",
          "height": 223
        },
        "id": "X_GnN_nuZTPf",
        "outputId": "27243901-17fd-4578-8d30-5c452615857d"
      },
      "source": [
        "# ===============================================================\n",
        "# 📊 2. Datos simulados del modelo Profe Ayuda\n",
        "# ===============================================================\n",
        "np.random.seed(42)\n",
        "y_true = np.random.choice([0,1], size=100, p=[0.4, 0.6])  # 60% correctas\n",
        "y_pred = y_true.copy()\n",
        "indices_error = np.random.choice(range(100), size=15, replace=False)\n",
        "y_pred[indices_error] = 1 - y_pred[indices_error]\n",
        "y_pred_scores = np.round(np.random.uniform(0.4, 1.0, size=100), 2)\n",
        "\n",
        "df = pd.DataFrame({\n",
        "    'Respuesta_Real': y_true,\n",
        "    'Predicción_Modelo': y_pred,\n",
        "    'Confianza_Modelo': y_pred_scores\n",
        "})\n",
        "print('Primeras filas del dataset:')\n",
        "display(df.head())\n"
      ],
      "execution_count": 2,
      "outputs": [
        {
          "output_type": "stream",
          "name": "stdout",
          "text": [
            "Primeras filas del dataset:\n"
          ]
        },
        {
          "output_type": "display_data",
          "data": {
            "text/plain": [
              "   Respuesta_Real  Predicción_Modelo  Confianza_Modelo\n",
              "0               0                  0              0.96\n",
              "1               1                  1              0.64\n",
              "2               1                  1              0.71\n",
              "3               1                  1              0.90\n",
              "4               0                  0              0.81"
            ],
            "text/html": [
              "\n",
              "  <div id=\"df-d067bef5-5799-48d7-8165-c2edd84c56b2\" class=\"colab-df-container\">\n",
              "    <div>\n",
              "<style scoped>\n",
              "    .dataframe tbody tr th:only-of-type {\n",
              "        vertical-align: middle;\n",
              "    }\n",
              "\n",
              "    .dataframe tbody tr th {\n",
              "        vertical-align: top;\n",
              "    }\n",
              "\n",
              "    .dataframe thead th {\n",
              "        text-align: right;\n",
              "    }\n",
              "</style>\n",
              "<table border=\"1\" class=\"dataframe\">\n",
              "  <thead>\n",
              "    <tr style=\"text-align: right;\">\n",
              "      <th></th>\n",
              "      <th>Respuesta_Real</th>\n",
              "      <th>Predicción_Modelo</th>\n",
              "      <th>Confianza_Modelo</th>\n",
              "    </tr>\n",
              "  </thead>\n",
              "  <tbody>\n",
              "    <tr>\n",
              "      <th>0</th>\n",
              "      <td>0</td>\n",
              "      <td>0</td>\n",
              "      <td>0.96</td>\n",
              "    </tr>\n",
              "    <tr>\n",
              "      <th>1</th>\n",
              "      <td>1</td>\n",
              "      <td>1</td>\n",
              "      <td>0.64</td>\n",
              "    </tr>\n",
              "    <tr>\n",
              "      <th>2</th>\n",
              "      <td>1</td>\n",
              "      <td>1</td>\n",
              "      <td>0.71</td>\n",
              "    </tr>\n",
              "    <tr>\n",
              "      <th>3</th>\n",
              "      <td>1</td>\n",
              "      <td>1</td>\n",
              "      <td>0.90</td>\n",
              "    </tr>\n",
              "    <tr>\n",
              "      <th>4</th>\n",
              "      <td>0</td>\n",
              "      <td>0</td>\n",
              "      <td>0.81</td>\n",
              "    </tr>\n",
              "  </tbody>\n",
              "</table>\n",
              "</div>\n",
              "    <div class=\"colab-df-buttons\">\n",
              "\n",
              "  <div class=\"colab-df-container\">\n",
              "    <button class=\"colab-df-convert\" onclick=\"convertToInteractive('df-d067bef5-5799-48d7-8165-c2edd84c56b2')\"\n",
              "            title=\"Convert this dataframe to an interactive table.\"\n",
              "            style=\"display:none;\">\n",
              "\n",
              "  <svg xmlns=\"http://www.w3.org/2000/svg\" height=\"24px\" viewBox=\"0 -960 960 960\">\n",
              "    <path d=\"M120-120v-720h720v720H120Zm60-500h600v-160H180v160Zm220 220h160v-160H400v160Zm0 220h160v-160H400v160ZM180-400h160v-160H180v160Zm440 0h160v-160H620v160ZM180-180h160v-160H180v160Zm440 0h160v-160H620v160Z\"/>\n",
              "  </svg>\n",
              "    </button>\n",
              "\n",
              "  <style>\n",
              "    .colab-df-container {\n",
              "      display:flex;\n",
              "      gap: 12px;\n",
              "    }\n",
              "\n",
              "    .colab-df-convert {\n",
              "      background-color: #E8F0FE;\n",
              "      border: none;\n",
              "      border-radius: 50%;\n",
              "      cursor: pointer;\n",
              "      display: none;\n",
              "      fill: #1967D2;\n",
              "      height: 32px;\n",
              "      padding: 0 0 0 0;\n",
              "      width: 32px;\n",
              "    }\n",
              "\n",
              "    .colab-df-convert:hover {\n",
              "      background-color: #E2EBFA;\n",
              "      box-shadow: 0px 1px 2px rgba(60, 64, 67, 0.3), 0px 1px 3px 1px rgba(60, 64, 67, 0.15);\n",
              "      fill: #174EA6;\n",
              "    }\n",
              "\n",
              "    .colab-df-buttons div {\n",
              "      margin-bottom: 4px;\n",
              "    }\n",
              "\n",
              "    [theme=dark] .colab-df-convert {\n",
              "      background-color: #3B4455;\n",
              "      fill: #D2E3FC;\n",
              "    }\n",
              "\n",
              "    [theme=dark] .colab-df-convert:hover {\n",
              "      background-color: #434B5C;\n",
              "      box-shadow: 0px 1px 3px 1px rgba(0, 0, 0, 0.15);\n",
              "      filter: drop-shadow(0px 1px 2px rgba(0, 0, 0, 0.3));\n",
              "      fill: #FFFFFF;\n",
              "    }\n",
              "  </style>\n",
              "\n",
              "    <script>\n",
              "      const buttonEl =\n",
              "        document.querySelector('#df-d067bef5-5799-48d7-8165-c2edd84c56b2 button.colab-df-convert');\n",
              "      buttonEl.style.display =\n",
              "        google.colab.kernel.accessAllowed ? 'block' : 'none';\n",
              "\n",
              "      async function convertToInteractive(key) {\n",
              "        const element = document.querySelector('#df-d067bef5-5799-48d7-8165-c2edd84c56b2');\n",
              "        const dataTable =\n",
              "          await google.colab.kernel.invokeFunction('convertToInteractive',\n",
              "                                                    [key], {});\n",
              "        if (!dataTable) return;\n",
              "\n",
              "        const docLinkHtml = 'Like what you see? Visit the ' +\n",
              "          '<a target=\"_blank\" href=https://colab.research.google.com/notebooks/data_table.ipynb>data table notebook</a>'\n",
              "          + ' to learn more about interactive tables.';\n",
              "        element.innerHTML = '';\n",
              "        dataTable['output_type'] = 'display_data';\n",
              "        await google.colab.output.renderOutput(dataTable, element);\n",
              "        const docLink = document.createElement('div');\n",
              "        docLink.innerHTML = docLinkHtml;\n",
              "        element.appendChild(docLink);\n",
              "      }\n",
              "    </script>\n",
              "  </div>\n",
              "\n",
              "\n",
              "    <div id=\"df-4c1ccc5b-039f-4dc7-b5bc-85da986d674b\">\n",
              "      <button class=\"colab-df-quickchart\" onclick=\"quickchart('df-4c1ccc5b-039f-4dc7-b5bc-85da986d674b')\"\n",
              "                title=\"Suggest charts\"\n",
              "                style=\"display:none;\">\n",
              "\n",
              "<svg xmlns=\"http://www.w3.org/2000/svg\" height=\"24px\"viewBox=\"0 0 24 24\"\n",
              "     width=\"24px\">\n",
              "    <g>\n",
              "        <path d=\"M19 3H5c-1.1 0-2 .9-2 2v14c0 1.1.9 2 2 2h14c1.1 0 2-.9 2-2V5c0-1.1-.9-2-2-2zM9 17H7v-7h2v7zm4 0h-2V7h2v10zm4 0h-2v-4h2v4z\"/>\n",
              "    </g>\n",
              "</svg>\n",
              "      </button>\n",
              "\n",
              "<style>\n",
              "  .colab-df-quickchart {\n",
              "      --bg-color: #E8F0FE;\n",
              "      --fill-color: #1967D2;\n",
              "      --hover-bg-color: #E2EBFA;\n",
              "      --hover-fill-color: #174EA6;\n",
              "      --disabled-fill-color: #AAA;\n",
              "      --disabled-bg-color: #DDD;\n",
              "  }\n",
              "\n",
              "  [theme=dark] .colab-df-quickchart {\n",
              "      --bg-color: #3B4455;\n",
              "      --fill-color: #D2E3FC;\n",
              "      --hover-bg-color: #434B5C;\n",
              "      --hover-fill-color: #FFFFFF;\n",
              "      --disabled-bg-color: #3B4455;\n",
              "      --disabled-fill-color: #666;\n",
              "  }\n",
              "\n",
              "  .colab-df-quickchart {\n",
              "    background-color: var(--bg-color);\n",
              "    border: none;\n",
              "    border-radius: 50%;\n",
              "    cursor: pointer;\n",
              "    display: none;\n",
              "    fill: var(--fill-color);\n",
              "    height: 32px;\n",
              "    padding: 0;\n",
              "    width: 32px;\n",
              "  }\n",
              "\n",
              "  .colab-df-quickchart:hover {\n",
              "    background-color: var(--hover-bg-color);\n",
              "    box-shadow: 0 1px 2px rgba(60, 64, 67, 0.3), 0 1px 3px 1px rgba(60, 64, 67, 0.15);\n",
              "    fill: var(--button-hover-fill-color);\n",
              "  }\n",
              "\n",
              "  .colab-df-quickchart-complete:disabled,\n",
              "  .colab-df-quickchart-complete:disabled:hover {\n",
              "    background-color: var(--disabled-bg-color);\n",
              "    fill: var(--disabled-fill-color);\n",
              "    box-shadow: none;\n",
              "  }\n",
              "\n",
              "  .colab-df-spinner {\n",
              "    border: 2px solid var(--fill-color);\n",
              "    border-color: transparent;\n",
              "    border-bottom-color: var(--fill-color);\n",
              "    animation:\n",
              "      spin 1s steps(1) infinite;\n",
              "  }\n",
              "\n",
              "  @keyframes spin {\n",
              "    0% {\n",
              "      border-color: transparent;\n",
              "      border-bottom-color: var(--fill-color);\n",
              "      border-left-color: var(--fill-color);\n",
              "    }\n",
              "    20% {\n",
              "      border-color: transparent;\n",
              "      border-left-color: var(--fill-color);\n",
              "      border-top-color: var(--fill-color);\n",
              "    }\n",
              "    30% {\n",
              "      border-color: transparent;\n",
              "      border-left-color: var(--fill-color);\n",
              "      border-top-color: var(--fill-color);\n",
              "      border-right-color: var(--fill-color);\n",
              "    }\n",
              "    40% {\n",
              "      border-color: transparent;\n",
              "      border-right-color: var(--fill-color);\n",
              "      border-top-color: var(--fill-color);\n",
              "    }\n",
              "    60% {\n",
              "      border-color: transparent;\n",
              "      border-right-color: var(--fill-color);\n",
              "    }\n",
              "    80% {\n",
              "      border-color: transparent;\n",
              "      border-right-color: var(--fill-color);\n",
              "      border-bottom-color: var(--fill-color);\n",
              "    }\n",
              "    90% {\n",
              "      border-color: transparent;\n",
              "      border-bottom-color: var(--fill-color);\n",
              "    }\n",
              "  }\n",
              "</style>\n",
              "\n",
              "      <script>\n",
              "        async function quickchart(key) {\n",
              "          const quickchartButtonEl =\n",
              "            document.querySelector('#' + key + ' button');\n",
              "          quickchartButtonEl.disabled = true;  // To prevent multiple clicks.\n",
              "          quickchartButtonEl.classList.add('colab-df-spinner');\n",
              "          try {\n",
              "            const charts = await google.colab.kernel.invokeFunction(\n",
              "                'suggestCharts', [key], {});\n",
              "          } catch (error) {\n",
              "            console.error('Error during call to suggestCharts:', error);\n",
              "          }\n",
              "          quickchartButtonEl.classList.remove('colab-df-spinner');\n",
              "          quickchartButtonEl.classList.add('colab-df-quickchart-complete');\n",
              "        }\n",
              "        (() => {\n",
              "          let quickchartButtonEl =\n",
              "            document.querySelector('#df-4c1ccc5b-039f-4dc7-b5bc-85da986d674b button');\n",
              "          quickchartButtonEl.style.display =\n",
              "            google.colab.kernel.accessAllowed ? 'block' : 'none';\n",
              "        })();\n",
              "      </script>\n",
              "    </div>\n",
              "\n",
              "    </div>\n",
              "  </div>\n"
            ],
            "application/vnd.google.colaboratory.intrinsic+json": {
              "type": "dataframe",
              "summary": "{\n  \"name\": \"display(df\",\n  \"rows\": 5,\n  \"fields\": [\n    {\n      \"column\": \"Respuesta_Real\",\n      \"properties\": {\n        \"dtype\": \"number\",\n        \"std\": 0,\n        \"min\": 0,\n        \"max\": 1,\n        \"num_unique_values\": 2,\n        \"samples\": [\n          1,\n          0\n        ],\n        \"semantic_type\": \"\",\n        \"description\": \"\"\n      }\n    },\n    {\n      \"column\": \"Predicci\\u00f3n_Modelo\",\n      \"properties\": {\n        \"dtype\": \"number\",\n        \"std\": 0,\n        \"min\": 0,\n        \"max\": 1,\n        \"num_unique_values\": 2,\n        \"samples\": [\n          1,\n          0\n        ],\n        \"semantic_type\": \"\",\n        \"description\": \"\"\n      }\n    },\n    {\n      \"column\": \"Confianza_Modelo\",\n      \"properties\": {\n        \"dtype\": \"number\",\n        \"std\": 0.1316434578701122,\n        \"min\": 0.64,\n        \"max\": 0.96,\n        \"num_unique_values\": 5,\n        \"samples\": [\n          0.64,\n          0.81\n        ],\n        \"semantic_type\": \"\",\n        \"description\": \"\"\n      }\n    }\n  ]\n}"
            }
          },
          "metadata": {}
        }
      ],
      "id": "X_GnN_nuZTPf"
    },
    {
      "cell_type": "code",
      "metadata": {
        "colab": {
          "base_uri": "https://localhost:8080/",
          "height": 559
        },
        "id": "wcEUtDzHZTPf",
        "outputId": "6ffa88ad-d301-4547-b517-9d14a3cb75c0"
      },
      "source": [
        "# ===============================================================\n",
        "# 📈 3. Métricas de Clasificación\n",
        "# ===============================================================\n",
        "acc = accuracy_score(y_true, y_pred)\n",
        "prec = precision_score(y_true, y_pred)\n",
        "rec = recall_score(y_true, y_pred)\n",
        "f1 = f1_score(y_true, y_pred)\n",
        "\n",
        "print('📊 MÉTRICAS DE CLASIFICACIÓN')\n",
        "print(f'Accuracy : {acc:.2f}')\n",
        "print(f'Precision: {prec:.2f}')\n",
        "print(f'Recall   : {rec:.2f}')\n",
        "print(f'F1-Score : {f1:.2f}')\n",
        "\n",
        "cm = confusion_matrix(y_true, y_pred)\n",
        "disp = ConfusionMatrixDisplay(confusion_matrix=cm)\n",
        "disp.plot(cmap='Purples')\n",
        "plt.title('Matriz de Confusión - Profe Ayuda')\n",
        "plt.show()\n"
      ],
      "execution_count": 3,
      "outputs": [
        {
          "output_type": "stream",
          "name": "stdout",
          "text": [
            "📊 MÉTRICAS DE CLASIFICACIÓN\n",
            "Accuracy : 0.85\n",
            "Precision: 0.85\n",
            "Recall   : 0.87\n",
            "F1-Score : 0.86\n"
          ]
        },
        {
          "output_type": "display_data",
          "data": {
            "text/plain": [
              "<Figure size 640x480 with 2 Axes>"
            ],
            "image/png": "[encoded data removed]"
          },
          "metadata": {}
        }
      ],
      "id": "wcEUtDzHZTPf"
    },
    {
      "cell_type": "code",
      "metadata": {
        "colab": {
          "base_uri": "https://localhost:8080/",
          "height": 478
        },
        "id": "5fqHHxfbZTPf",
        "outputId": "9a5020ad-cd3d-4e4d-9f55-55cc02700463"
      },
      "source": [
        "# ===============================================================\n",
        "# 📊 4. Visualización comparativa de métricas\n",
        "# ===============================================================\n",
        "plt.figure(figsize=(6,4))\n",
        "sns.barplot(x=['Accuracy', 'Precision', 'Recall', 'F1-Score'],\n",
        "            y=[acc, prec, rec, f1], palette='Purples')\n",
        "plt.title('Comparación de Métricas de Clasificación - Profe Ayuda')\n",
        "plt.ylim(0,1)\n",
        "plt.show()\n"
      ],
      "execution_count": 4,
      "outputs": [
        {
          "output_type": "stream",
          "name": "stderr",
          "text": [
            "/tmp/ipython-input-3743909074.py:5: FutureWarning: \n",
            "\n",
            "Passing `palette` without assigning `hue` is deprecated and will be removed in v0.14.0. Assign the `x` variable to `hue` and set `legend=False` for the same effect.\n",
            "\n",
            "  sns.barplot(x=['Accuracy', 'Precision', 'Recall', 'F1-Score'],\n"
          ]
        },
        {
          "output_type": "display_data",
          "data": {
            "text/plain": [
              "<Figure size 600x400 with 1 Axes>"
            ],
            "image/png": "[encoded data removed]"
          },
          "metadata": {}
        }
      ],
      "id": "5fqHHxfbZTPf"
    },
    {
      "cell_type": "code",
      "metadata": {
        "colab": {
          "base_uri": "https://localhost:8080/"
        },
        "id": "SOvyhHjYZTPf",
        "outputId": "32197111-66ec-4504-ef4b-93a712848f30"
      },
      "source": [
        "# ===============================================================\n",
        "# 📏 5. Métricas de Regresión\n",
        "# ===============================================================\n",
        "y_true_reg = y_true.astype(float)\n",
        "y_pred_reg = y_pred_scores\n",
        "\n",
        "mae = mean_absolute_error(y_true_reg, y_pred_reg)\n",
        "mse = mean_squared_error(y_true_reg, y_pred_reg)\n",
        "rmse = np.sqrt(mse)\n",
        "r2 = r2_score(y_true_reg, y_pred_reg)\n",
        "\n",
        "print('📈 MÉTRICAS DE REGRESIÓN')\n",
        "print(f'MAE : {mae:.3f}')\n",
        "print(f'MSE : {mse:.3f}')\n",
        "print(f'RMSE: {rmse:.3f}')\n",
        "print(f'R²  : {r2:.3f}')\n"
      ],
      "execution_count": 5,
      "outputs": [
        {
          "output_type": "stream",
          "name": "stdout",
          "text": [
            "📈 MÉTRICAS DE REGRESIÓN\n",
            "MAE : 0.496\n",
            "MSE : 0.323\n",
            "RMSE: 0.568\n",
            "R²  : -0.301\n"
          ]
        }
      ],
      "id": "SOvyhHjYZTPf"
    },
    {
      "cell_type": "code",
      "metadata": {
        "colab": {
          "base_uri": "https://localhost:8080/",
          "height": 411
        },
        "id": "laUyA7jRZTPg",
        "outputId": "1dfe53ab-3ccd-4763-c29c-4fcee150095e"
      },
      "source": [
        "# ===============================================================\n",
        "# 🎯 6. Visualización de regresión\n",
        "# ===============================================================\n",
        "plt.figure(figsize=(6,4))\n",
        "sns.scatterplot(x=y_true_reg, y=y_pred_reg, color='mediumpurple')\n",
        "plt.plot([0,1], [0,1], 'r--', label='Ideal')\n",
        "plt.xlabel('Valor Real')\n",
        "plt.ylabel('Confianza del Modelo')\n",
        "plt.title('Comparación de Confianza vs Realidad - Profe Ayuda')\n",
        "plt.legend()\n",
        "plt.show()\n"
      ],
      "execution_count": 6,
      "outputs": [
        {
          "output_type": "display_data",
          "data": {
            "text/plain": [
              "<Figure size 600x400 with 1 Axes>"
            ],
            "image/png": "[encoded data removed]"
          },
          "metadata": {}
        }
      ],
      "id": "laUyA7jRZTPg"
    },
    {
      "cell_type": "markdown",
      "metadata": {
        "id": "KI6kuKgnZTPg"
      },
      "source": [
        "## ✅ Conclusiones y buenas prácticas\n",
        "- **Accuracy alto** indica que el modelo acierta en la mayoría de los casos.\n",
        "- **Precision** mide qué tan confiables son las respuestas positivas.\n",
        "- **Recall** evalúa si el modelo identifica correctamente todas las respuestas correctas.\n",
        "- **F1-Score** combina precisión y cobertura.\n",
        "\n",
        "Para la regresión:\n",
        "- **MAE y RMSE bajos** indican buena aproximación del nivel de confianza.\n",
        "- **R² cercano a 1** significa que el modelo explica bien la variabilidad.\n",
        "\n",
        "### 🧰 Herramientas del PDF:\n",
        "- scikit-learn ✅\n",
        "- matplotlib ✅\n",
        "- seaborn ✅\n",
        "- MLflow / wandb (opcional)\n"
      ],
      "id": "KI6kuKgnZTPg"
    }
  ],
  "metadata": {
    "kernelspec": {
      "display_name": "Python 3",
      "language": "python",
      "name": "python3"
    },
    "language_info": {
      "name": "python",
      "version": "3.x"
    },
    "colab": {
      "provenance": []
    }
  },
  "nbformat": 4,
  "nbformat_minor": 5
}